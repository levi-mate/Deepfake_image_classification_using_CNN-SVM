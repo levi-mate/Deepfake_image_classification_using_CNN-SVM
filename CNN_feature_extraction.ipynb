{
 "cells": [
  {
   "cell_type": "markdown",
   "metadata": {},
   "source": [
    "## Training base CNN models and extracting features\n",
    "\n",
    "First we begin by importing the important libraries used.\n",
    "\n",
    "There are several weird errors shown in this notebook, these do not affect performance or outcomes, they are simply because the models were trained using a GPU, and the various CUDA toolkits, cuDNN, tensorflow have problems.\n",
    "\n",
    "Regardless, they are only visual and everything was compiled and ran perfectly."
   ]
  },
  {
   "cell_type": "code",
   "execution_count": 1,
   "metadata": {},
   "outputs": [
    {
     "name": "stderr",
     "output_type": "stream",
     "text": [
      "2024-05-01 18:35:00.577224: I tensorflow/core/platform/cpu_feature_guard.cc:193] This TensorFlow binary is optimized with oneAPI Deep Neural Network Library (oneDNN) to use the following CPU instructions in performance-critical operations:  AVX2 FMA\n",
      "To enable them in other operations, rebuild TensorFlow with the appropriate compiler flags.\n",
      "2024-05-01 18:35:00.677774: E tensorflow/stream_executor/cuda/cuda_blas.cc:2981] Unable to register cuBLAS factory: Attempting to register factory for plugin cuBLAS when one has already been registered\n",
      "2024-05-01 18:35:01.087315: W tensorflow/stream_executor/platform/default/dso_loader.cc:64] Could not load dynamic library 'libnvinfer.so.7'; dlerror: libnvinfer.so.7: cannot open shared object file: No such file or directory; LD_LIBRARY_PATH: /usr/lib/cuda/include:/usr/lib/cuda/lib64::/home/shard746/miniconda3/envs/tefo/lib/\n",
      "2024-05-01 18:35:01.087377: W tensorflow/stream_executor/platform/default/dso_loader.cc:64] Could not load dynamic library 'libnvinfer_plugin.so.7'; dlerror: libnvinfer_plugin.so.7: cannot open shared object file: No such file or directory; LD_LIBRARY_PATH: /usr/lib/cuda/include:/usr/lib/cuda/lib64::/home/shard746/miniconda3/envs/tefo/lib/\n",
      "2024-05-01 18:35:01.087382: W tensorflow/compiler/tf2tensorrt/utils/py_utils.cc:38] TF-TRT Warning: Cannot dlopen some TensorRT libraries. If you would like to use Nvidia GPU with TensorRT, please make sure the missing libraries mentioned above are installed properly.\n"
     ]
    }
   ],
   "source": [
    "import tensorflow as tf\n",
    "from tensorflow.keras.preprocessing.image import ImageDataGenerator\n",
    "from tensorflow.keras.applications import InceptionV3, InceptionResNetV2, Xception\n",
    "from tensorflow.keras.layers import Dense, GlobalAveragePooling2D\n",
    "from tensorflow.keras.optimizers import Adam\n",
    "from tensorflow.keras.models import Model\n",
    "from tensorflow.keras.models import load_model\n",
    "\n",
    "import numpy as np\n",
    "import seaborn as sns\n",
    "import matplotlib.pyplot as plt\n",
    "\n",
    "from sklearn.metrics import classification_report, accuracy_score, confusion_matrix"
   ]
  },
  {
   "cell_type": "markdown",
   "metadata": {},
   "source": [
    "First, we import our dataset, and assign it into training, validation and testing parts.\n",
    "\n",
    "The dataset can be found here: https://www.kaggle.com/datasets/sachchitkunichetty/rvf10k\n",
    "\n",
    "Appropriate pre-processing on the images is done, which helps against over fitting and gives more realistic results."
   ]
  },
  {
   "cell_type": "code",
   "execution_count": 2,
   "metadata": {},
   "outputs": [
    {
     "name": "stdout",
     "output_type": "stream",
     "text": [
      "GPU: PhysicalDevice(name='/physical_device:GPU:0', device_type='GPU')\n",
      "Found 6300 images belonging to 2 classes.\n",
      "Found 700 images belonging to 2 classes.\n",
      "Found 3000 images belonging to 2 classes.\n"
     ]
    },
    {
     "name": "stderr",
     "output_type": "stream",
     "text": [
      "2024-05-01 18:35:03.490885: I tensorflow/stream_executor/cuda/cuda_gpu_executor.cc:980] successful NUMA node read from SysFS had negative value (-1), but there must be at least one NUMA node, so returning NUMA node zero\n",
      "2024-05-01 18:35:03.496032: I tensorflow/stream_executor/cuda/cuda_gpu_executor.cc:980] successful NUMA node read from SysFS had negative value (-1), but there must be at least one NUMA node, so returning NUMA node zero\n",
      "2024-05-01 18:35:03.496232: I tensorflow/stream_executor/cuda/cuda_gpu_executor.cc:980] successful NUMA node read from SysFS had negative value (-1), but there must be at least one NUMA node, so returning NUMA node zero\n"
     ]
    }
   ],
   "source": [
    "# GPU availability checker\n",
    "gpus = tf.config.list_physical_devices('GPU')\n",
    "\n",
    "if gpus:\n",
    "    try:\n",
    "        for gpu in gpus:\n",
    "            print(\"GPU:\", gpu)\n",
    "            tf.config.experimental.set_memory_growth(gpu, True)\n",
    "    except RuntimeError as e:\n",
    "        print(e)\n",
    "else:\n",
    "    print(\"No GPU found.\")\n",
    "\n",
    "# Importing and pre-processing dataset\n",
    "img_size = 256\n",
    "batch_size = 100\n",
    "\n",
    "train_dir = 'rvf10k/train'\n",
    "test_dir = 'rvf10k/valid'\n",
    "\n",
    "train_gen = ImageDataGenerator(\n",
    "    rescale = 1./255,\n",
    "    validation_split = 0.1,\n",
    "    brightness_range = (0.8, 1.2),\n",
    "    zoom_range = 0.1,\n",
    "    fill_mode = 'nearest',\n",
    "    horizontal_flip = True,\n",
    "    vertical_flip = True\n",
    ")\n",
    "\n",
    "test_gen = ImageDataGenerator(rescale = 1./255)\n",
    "\n",
    "train_dataset = train_gen.flow_from_directory(\n",
    "    train_dir,\n",
    "    target_size = (img_size, img_size),\n",
    "    color_mode = 'rgb',\n",
    "    class_mode = 'binary',\n",
    "    batch_size = batch_size,\n",
    "    shuffle = True,\n",
    "    subset = 'training'\n",
    ")\n",
    "\n",
    "val_dataset = train_gen.flow_from_directory(\n",
    "    train_dir,\n",
    "    target_size = (img_size, img_size),\n",
    "    color_mode = 'rgb',\n",
    "    class_mode = 'binary',\n",
    "    batch_size = batch_size,\n",
    "    shuffle = True,\n",
    "    subset = 'validation'\n",
    ")\n",
    "\n",
    "test_dataset = test_gen.flow_from_directory(\n",
    "    test_dir,\n",
    "    target_size = (img_size, img_size),\n",
    "    color_mode = 'rgb',\n",
    "    class_mode = 'binary',\n",
    "    batch_size = batch_size,\n",
    "    shuffle = False\n",
    ")"
   ]
  },
  {
   "cell_type": "markdown",
   "metadata": {},
   "source": [
    "This tool we built below makes it easy to swap the different base models for training, as well as add or remove layers, change parameters, etc.\n",
    "\n",
    "To change the base model, simply uncomment only 1 of the \"train_model\" options and run the cell.\n",
    "\n",
    "Training takes a decent chunk of time, even on the RTX 3090 we used, so any changes have to be carefully considered beforehand."
   ]
  },
  {
   "cell_type": "code",
   "execution_count": 3,
   "metadata": {},
   "outputs": [
    {
     "name": "stderr",
     "output_type": "stream",
     "text": [
      "2024-05-01 18:35:09.646668: I tensorflow/core/platform/cpu_feature_guard.cc:193] This TensorFlow binary is optimized with oneAPI Deep Neural Network Library (oneDNN) to use the following CPU instructions in performance-critical operations:  AVX2 FMA\n",
      "To enable them in other operations, rebuild TensorFlow with the appropriate compiler flags.\n",
      "2024-05-01 18:35:09.647235: I tensorflow/stream_executor/cuda/cuda_gpu_executor.cc:980] successful NUMA node read from SysFS had negative value (-1), but there must be at least one NUMA node, so returning NUMA node zero\n",
      "2024-05-01 18:35:09.647421: I tensorflow/stream_executor/cuda/cuda_gpu_executor.cc:980] successful NUMA node read from SysFS had negative value (-1), but there must be at least one NUMA node, so returning NUMA node zero\n",
      "2024-05-01 18:35:09.647564: I tensorflow/stream_executor/cuda/cuda_gpu_executor.cc:980] successful NUMA node read from SysFS had negative value (-1), but there must be at least one NUMA node, so returning NUMA node zero\n",
      "2024-05-01 18:35:10.074292: I tensorflow/stream_executor/cuda/cuda_gpu_executor.cc:980] successful NUMA node read from SysFS had negative value (-1), but there must be at least one NUMA node, so returning NUMA node zero\n",
      "2024-05-01 18:35:10.074474: I tensorflow/stream_executor/cuda/cuda_gpu_executor.cc:980] successful NUMA node read from SysFS had negative value (-1), but there must be at least one NUMA node, so returning NUMA node zero\n",
      "2024-05-01 18:35:10.074622: I tensorflow/stream_executor/cuda/cuda_gpu_executor.cc:980] successful NUMA node read from SysFS had negative value (-1), but there must be at least one NUMA node, so returning NUMA node zero\n",
      "2024-05-01 18:35:10.074747: I tensorflow/core/common_runtime/gpu/gpu_device.cc:1616] Created device /job:localhost/replica:0/task:0/device:GPU:0 with 21564 MB memory:  -> device: 0, name: NVIDIA GeForce RTX 3090, pci bus id: 0000:0f:00.0, compute capability: 8.6\n"
     ]
    },
    {
     "name": "stdout",
     "output_type": "stream",
     "text": [
      "Epoch 1/10\n"
     ]
    },
    {
     "name": "stderr",
     "output_type": "stream",
     "text": [
      "2024-05-01 18:35:15.092255: I tensorflow/stream_executor/cuda/cuda_dnn.cc:384] Loaded cuDNN version 8100\n",
      "2024-05-01 18:35:16.234576: I tensorflow/stream_executor/cuda/cuda_blas.cc:1614] TensorFloat-32 will be used for the matrix multiplication. This will only be logged once.\n"
     ]
    },
    {
     "name": "stdout",
     "output_type": "stream",
     "text": [
      "63/63 [==============================] - 64s 922ms/step - loss: 0.4370 - accuracy: 0.7878 - val_loss: 0.6621 - val_accuracy: 0.7571\n",
      "Epoch 2/10\n",
      "63/63 [==============================] - 57s 903ms/step - loss: 0.1629 - accuracy: 0.9368 - val_loss: 1.5029 - val_accuracy: 0.6529\n",
      "Epoch 3/10\n",
      "63/63 [==============================] - 57s 900ms/step - loss: 0.0857 - accuracy: 0.9679 - val_loss: 0.2537 - val_accuracy: 0.9057\n",
      "Epoch 4/10\n",
      "63/63 [==============================] - 60s 937ms/step - loss: 0.0541 - accuracy: 0.9835 - val_loss: 0.1613 - val_accuracy: 0.9486\n",
      "Epoch 5/10\n",
      "63/63 [==============================] - 57s 895ms/step - loss: 0.0366 - accuracy: 0.9876 - val_loss: 0.1057 - val_accuracy: 0.9629\n",
      "Epoch 6/10\n",
      "63/63 [==============================] - 57s 889ms/step - loss: 0.0273 - accuracy: 0.9905 - val_loss: 0.0890 - val_accuracy: 0.9686\n",
      "Epoch 7/10\n",
      "63/63 [==============================] - 57s 890ms/step - loss: 0.0203 - accuracy: 0.9933 - val_loss: 0.0740 - val_accuracy: 0.9743\n",
      "Epoch 8/10\n",
      "63/63 [==============================] - 57s 896ms/step - loss: 0.0224 - accuracy: 0.9917 - val_loss: 0.0859 - val_accuracy: 0.9700\n",
      "Epoch 9/10\n",
      "63/63 [==============================] - 56s 888ms/step - loss: 0.0148 - accuracy: 0.9956 - val_loss: 0.0602 - val_accuracy: 0.9786\n",
      "Epoch 10/10\n",
      "63/63 [==============================] - 57s 890ms/step - loss: 0.0122 - accuracy: 0.9956 - val_loss: 0.1381 - val_accuracy: 0.9600\n"
     ]
    }
   ],
   "source": [
    "def build_model(base_model_input):\n",
    "    base_model = base_model_input(weights = 'imagenet', include_top = False, input_shape = (img_size, img_size, 3))\n",
    "\n",
    "    x = base_model.output\n",
    "    x = GlobalAveragePooling2D()(x)\n",
    "    predictions = Dense(1, activation = 'sigmoid')(x)\n",
    "    \n",
    "    model = Model(inputs = base_model.input, outputs = predictions)\n",
    "    \n",
    "    model.compile(optimizer = Adam(learning_rate = 0.0001), loss = 'binary_crossentropy', metrics = ['accuracy'])\n",
    "    \n",
    "    return model\n",
    "\n",
    "#train_model = build_model(InceptionV3)\n",
    "#train_model = build_model(InceptionResNetV2)\n",
    "train_model = build_model(Xception)\n",
    "\n",
    "training = train_model.fit(train_dataset, epochs = 10, validation_data = val_dataset)"
   ]
  },
  {
   "cell_type": "markdown",
   "metadata": {},
   "source": [
    "The cell below can be used to generate a plot for the training progression over the epochs."
   ]
  },
  {
   "cell_type": "code",
   "execution_count": 4,
   "metadata": {},
   "outputs": [
    {
     "data": {
      "image/png": "[encoded data removed]",
      "text/plain": [
       "<Figure size 600x500 with 1 Axes>"
      ]
     },
     "metadata": {},
     "output_type": "display_data"
    }
   ],
   "source": [
    "#title = \"InceptionV3\"\n",
    "#title = \"InceptionResNetV2\"\n",
    "title = \"Xception\"\n",
    "\n",
    "acc = training.history['accuracy']\n",
    "val_acc = training.history['val_accuracy']\n",
    "epochs = range(1, len(acc) + 1)\n",
    "\n",
    "plt.figure(figsize = (6, 5))\n",
    "\n",
    "plt.plot(epochs, acc, label = 'Training Accuracy')\n",
    "plt.plot(epochs, val_acc, label = 'Validation Accuracy')\n",
    "plt.title(f'{title}')\n",
    "plt.xlabel('Epochs')\n",
    "plt.ylabel('Accuracy')\n",
    "plt.legend()\n",
    "\n",
    "plt.tight_layout()\n",
    "plt.show()"
   ]
  },
  {
   "cell_type": "markdown",
   "metadata": {},
   "source": [
    "Next, by uncommenting the appropriate \"save_model\" we can save the trained model to its proper directory.\n",
    "\n",
    "This helps save a massive amount of time later for performance evaluation and further tweaks."
   ]
  },
  {
   "cell_type": "code",
   "execution_count": 5,
   "metadata": {},
   "outputs": [
    {
     "name": "stderr",
     "output_type": "stream",
     "text": [
      "WARNING:absl:Found untraced functions such as _jit_compiled_convolution_op, _jit_compiled_convolution_op, _jit_compiled_convolution_op, _jit_compiled_convolution_op, _jit_compiled_convolution_op while saving (showing 5 of 40). These functions will not be directly callable after loading.\n"
     ]
    },
    {
     "name": "stdout",
     "output_type": "stream",
     "text": [
      "INFO:tensorflow:Assets written to: trained_models/xception/assets\n"
     ]
    },
    {
     "name": "stderr",
     "output_type": "stream",
     "text": [
      "INFO:tensorflow:Assets written to: trained_models/xception/assets\n"
     ]
    }
   ],
   "source": [
    "#save_model = \"inceptionv3\"\n",
    "#save_model = \"inceptionresnetv2\"\n",
    "save_model = \"xception\"\n",
    "\n",
    "train_model.save(f'trained_models/{save_model}')"
   ]
  },
  {
   "cell_type": "markdown",
   "metadata": {},
   "source": [
    "Optionally, the cell below can be used to load the already saved trained models."
   ]
  },
  {
   "cell_type": "code",
   "execution_count": 6,
   "metadata": {},
   "outputs": [],
   "source": [
    "#loading_model = \"inceptionv3\"\n",
    "#loading_model = \"inceptionresnetv2\"\n",
    "loading_model = \"xception\"\n",
    "\n",
    "trained_model = load_model(f'trained_models/{loading_model}')"
   ]
  },
  {
   "cell_type": "markdown",
   "metadata": {},
   "source": [
    "Next, we import the dataset once again, with shuffling turned off for proper feature extraction."
   ]
  },
  {
   "cell_type": "code",
   "execution_count": 7,
   "metadata": {},
   "outputs": [
    {
     "name": "stdout",
     "output_type": "stream",
     "text": [
      "Found 6300 images belonging to 2 classes.\n",
      "Found 700 images belonging to 2 classes.\n",
      "Found 3000 images belonging to 2 classes.\n"
     ]
    }
   ],
   "source": [
    "# Importing dataset without shuffling to extract features\n",
    "img_size = 256\n",
    "batch_size = 100\n",
    "\n",
    "feature_train_dir = 'rvf10k/train'\n",
    "feature_test_dir = 'rvf10k/valid'\n",
    "\n",
    "feature_train_gen = ImageDataGenerator(\n",
    "    rescale = 1./255,\n",
    "    validation_split = 0.1,\n",
    "    brightness_range = (0.8, 1.2),\n",
    "    zoom_range = 0.1,\n",
    "    fill_mode = 'nearest',\n",
    "    horizontal_flip = True,\n",
    "    vertical_flip = True\n",
    ")\n",
    "\n",
    "feature_test_gen = ImageDataGenerator(rescale = 1./255)\n",
    "\n",
    "feature_train_dataset = feature_train_gen.flow_from_directory(\n",
    "    train_dir,\n",
    "    target_size = (img_size, img_size),\n",
    "    color_mode = 'rgb',\n",
    "    class_mode = 'binary',\n",
    "    batch_size = batch_size,\n",
    "    shuffle = False,\n",
    "    subset = 'training'\n",
    ")\n",
    "\n",
    "feature_val_dataset = feature_train_gen.flow_from_directory(\n",
    "    train_dir,\n",
    "    target_size = (img_size, img_size),\n",
    "    color_mode = 'rgb',\n",
    "    class_mode = 'binary',\n",
    "    batch_size = batch_size,\n",
    "    shuffle = False,\n",
    "    subset = 'validation'\n",
    ")\n",
    "\n",
    "feature_test_dataset = feature_test_gen.flow_from_directory(\n",
    "    feature_test_dir,\n",
    "    target_size = (img_size, img_size),\n",
    "    color_mode = 'rgb',\n",
    "    class_mode = 'binary',\n",
    "    batch_size = batch_size,\n",
    "    shuffle = False\n",
    ")"
   ]
  },
  {
   "cell_type": "markdown",
   "metadata": {},
   "source": [
    "The trained CNNs are used without the last classification layer to extract the features from the images.\n",
    "\n",
    "Features and labels for training, validation and testing are saved using numpy to their folder by uncommenting the appropriate \"feature_dir\"."
   ]
  },
  {
   "cell_type": "code",
   "execution_count": 8,
   "metadata": {},
   "outputs": [
    {
     "name": "stdout",
     "output_type": "stream",
     "text": [
      "63/63 [==============================] - 51s 796ms/step\n",
      "7/7 [==============================] - 6s 796ms/step\n",
      "30/30 [==============================] - 4s 145ms/step\n"
     ]
    }
   ],
   "source": [
    "# Extract features with base CNN model without last classification layer\n",
    "feature_extractor = Model(inputs = trained_model.input, outputs = trained_model.layers[-1].output)\n",
    "\n",
    "train_labels = feature_train_dataset.classes\n",
    "val_labels = feature_val_dataset.classes\n",
    "test_labels = feature_test_dataset.classes\n",
    "\n",
    "train_features = feature_extractor.predict(feature_train_dataset)\n",
    "val_features = feature_extractor.predict(feature_val_dataset)\n",
    "test_features = feature_extractor.predict(feature_test_dataset)\n",
    "\n",
    "#feature_dir = \"inceptionv3\"\n",
    "#feature_dir = \"inceptionresnetv2\"\n",
    "feature_dir = \"xception\"\n",
    "\n",
    "np.save(f'extracted_features/{feature_dir}/train_features.npy', train_features)\n",
    "np.save(f'extracted_features/{feature_dir}/val_features.npy', val_features)\n",
    "np.save(f'extracted_features/{feature_dir}/test_features.npy', test_features)\n",
    "\n",
    "np.save(f'extracted_features/{feature_dir}/train_labels.npy', train_labels)\n",
    "np.save(f'extracted_features/{feature_dir}/val_labels.npy', val_labels)\n",
    "np.save(f'extracted_features/{feature_dir}/test_labels.npy', test_labels)"
   ]
  },
  {
   "cell_type": "markdown",
   "metadata": {},
   "source": [
    "Optionally, the already saved features and labels can be loaded in by uncommenting the appropriate \"load_features_dir\"."
   ]
  },
  {
   "cell_type": "code",
   "execution_count": 9,
   "metadata": {},
   "outputs": [],
   "source": [
    "#load_features_dir = \"inceptionv3\"\n",
    "#load_features_dir = \"inceptionresnetv2\"\n",
    "load_features_dir = \"xception\"\n",
    "\n",
    "train_features = np.load(f'extracted_features/{load_features_dir}/train_features.npy')\n",
    "val_features = np.load(f'extracted_features/{load_features_dir}/val_features.npy')\n",
    "test_features = np.load(f'extracted_features/{load_features_dir}/test_features.npy')\n",
    "\n",
    "train_labels = np.load(f'extracted_features/{load_features_dir}/train_labels.npy')\n",
    "val_labels = np.load(f'extracted_features/{load_features_dir}/val_labels.npy')\n",
    "test_labels = np.load(f'extracted_features/{load_features_dir}/test_labels.npy')"
   ]
  },
  {
   "cell_type": "markdown",
   "metadata": {},
   "source": [
    "Finally, the trained base CNNs are evaluated.\n",
    "\n",
    "Here, we generate a classification report and a visual confusion matrix, which are later used to compare performance."
   ]
  },
  {
   "cell_type": "code",
   "execution_count": 10,
   "metadata": {},
   "outputs": [
    {
     "name": "stdout",
     "output_type": "stream",
     "text": [
      "30/30 [==============================] - 5s 161ms/step\n",
      "CNN (xception) results:\n",
      "\n",
      "Accuracy:  0.9473333333333334\n",
      "Classification Report:\n",
      "               precision    recall  f1-score   support\n",
      "\n",
      "        Fake     0.9985    0.8960    0.9445      1500\n",
      "        Real     0.9057    0.9987    0.9499      1500\n",
      "\n",
      "    accuracy                         0.9473      3000\n",
      "   macro avg     0.9521    0.9473    0.9472      3000\n",
      "weighted avg     0.9521    0.9473    0.9472      3000\n",
      "\n"
     ]
    },
    {
     "data": {
      "image/png": "[encoded data removed]",
      "text/plain": [
       "<Figure size 1000x700 with 2 Axes>"
      ]
     },
     "metadata": {},
     "output_type": "display_data"
    }
   ],
   "source": [
    "cnn_predictions = trained_model.predict(test_dataset)\n",
    "predicted_labels = (cnn_predictions > 0.5).astype(int)\n",
    "cnn_conf_mat= confusion_matrix(test_labels, predicted_labels)\n",
    "\n",
    "print(f\"CNN ({load_features_dir}) results:\\n\")\n",
    "print(\"Accuracy: \", accuracy_score(test_labels, predicted_labels))\n",
    "print(\"Classification Report:\\n\", classification_report(test_labels, predicted_labels, target_names = ['Fake', 'Real'], digits = 4))\n",
    "\n",
    "plt.figure(figsize = (10, 7))\n",
    "sns.heatmap(cnn_conf_mat, annot = True, fmt = \"d\", cmap = \"Blues\", xticklabels = ['Fake', 'Real'], yticklabels = ['Fake', 'Real'])\n",
    "plt.title(f'{load_features_dir} Confusion Matrix')\n",
    "plt.ylabel('Actual Class')\n",
    "plt.xlabel('Predicted Class')\n",
    "plt.show()"
   ]
  }
 ],
 "metadata": {
  "kernelspec": {
   "display_name": "tefo",
   "language": "python",
   "name": "python3"
  },
  "language_info": {
   "codemirror_mode": {
    "name": "ipython",
    "version": 3
   },
   "file_extension": ".py",
   "mimetype": "text/x-python",
   "name": "python",
   "nbconvert_exporter": "python",
   "pygments_lexer": "ipython3",
   "version": "3.11.3"
  }
 },
 "nbformat": 4,
 "nbformat_minor": 2
}
